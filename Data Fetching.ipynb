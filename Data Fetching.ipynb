{
 "cells": [
  {
   "metadata": {},
   "cell_type": "code",
   "source": [
    "import pandas as pd\n",
    "import numpy as np\n",
    "df=pd.read_csv('/Users/gautammehta/Downloads/startup_funding.csv')\n",
    "\n",
    "# dropped the remark column\n",
    "df.drop(columns=['Remarks'],inplace=True)\n",
    "\n",
    "# changing the index as index is given in the form of Serial number\n",
    "df.set_index('Sr No',inplace=True)\n",
    "\n",
    "# Rename columns\n",
    "\n",
    "df.rename(columns={\n",
    "    'Date dd/mm/yyyy':'date',\n",
    "    'Industry Vertical':'vertical',\n",
    "    'SubVertical':'subvertical',\n",
    "    'City  Location':'city',\n",
    "    'InvestmentnType':'round_number',\n",
    "    'Amount in USD':'amount'\n",
    "},inplace=True)\n",
    "\n",
    "# Conver the amount to crore rupees\n",
    "df['amount']=df['amount'].str.replace(',','')\n",
    "df['amount']=df['amount'].str.replace('undisclosed','0')\n",
    "df['amount']=df['amount'].str.replace('Undisclosed','0')\n",
    "df['amount']=df['amount'].str.replace('unknown','0')\n",
    "df['amount']=df['amount'].fillna(0)\n",
    "\n",
    "df=df[df['amount'].str.isdigit().fillna(False)]\n",
    "df['amount']=df['amount'].astype('float')\n",
    "df.info()\n",
    "\n",
    "\n",
    "def crore_INR(dollar):\n",
    "    inr=dollar*82.5\n",
    "    return(inr/10000000)\n",
    "\n",
    "df['amount']=df['amount'].apply(crore_INR)\n",
    "df\n",
    "\n",
    "\n",
    "\n"
   ],
   "id": "initial_id",
   "outputs": [],
   "execution_count": null
  },
  {
   "metadata": {},
   "cell_type": "code",
   "source": "",
   "id": "63570645dad217b",
   "outputs": [],
   "execution_count": null
  },
  {
   "metadata": {},
   "cell_type": "code",
   "source": [
    "df['date']=pd.to_datetime(df['date'],errors='coerce')\n",
    "df"
   ],
   "id": "bb87fb8355b2075a",
   "outputs": [],
   "execution_count": null
  },
  {
   "metadata": {},
   "cell_type": "code",
   "source": [
    "df['date'].dt.year\n",
    "df"
   ],
   "id": "10764325cc61d077",
   "outputs": [],
   "execution_count": null
  },
  {
   "metadata": {},
   "cell_type": "code",
   "source": [
    "df=df.dropna(subset=['date','Startup Name','vertical','city','Investors Name','round_number','amount'])\n",
    "df\n"
   ],
   "id": "4c6bf82d9d561a14",
   "outputs": [],
   "execution_count": null
  },
  {
   "metadata": {},
   "cell_type": "code",
   "source": "",
   "id": "c53e831068e3cb56",
   "outputs": [],
   "execution_count": null
  },
  {
   "metadata": {},
   "cell_type": "code",
   "source": "df",
   "id": "3cc27f51e3252f52",
   "outputs": [],
   "execution_count": null
  },
  {
   "metadata": {},
   "cell_type": "code",
   "source": "df.to_csv('startup_cleaned.csv',index=False)",
   "id": "d0dc74840accfb6d",
   "outputs": [],
   "execution_count": null
  },
  {
   "metadata": {},
   "cell_type": "code",
   "source": "",
   "id": "e46a7fcecda72e3f",
   "outputs": [],
   "execution_count": null
  },
  {
   "metadata": {},
   "cell_type": "markdown",
   "source": "",
   "id": "dba982a0eeff7e4d"
  },
  {
   "metadata": {},
   "cell_type": "code",
   "source": [
    "import pandas as pd\n",
    "import numpy as np\n",
    "df=pd.read_csv('/Users/gautammehta/PycharmProjects/Startup Dashboard/startup_cleaned.csv')"
   ],
   "id": "3c93b5cc2ef7569e",
   "outputs": [],
   "execution_count": null
  },
  {
   "metadata": {
    "ExecuteTime": {
     "end_time": "2024-07-24T10:36:17.001109Z",
     "start_time": "2024-07-24T10:36:16.980353Z"
    }
   },
   "cell_type": "code",
   "source": [
    "df[df['Investors Name'].str.contains('Tiger Global Management')][['date','Startup Name','vertical','city','round_number','amount']].head(5)\n",
    "\n"
   ],
   "id": "d1406164a56d2353",
   "outputs": [
    {
     "data": {
      "text/plain": [
       "          date Startup Name    vertical       city          round_number  \\\n",
       "0   2020-09-01       BYJU’S      E-Tech  Bengaluru  Private Equity Round   \n",
       "34  2019-11-07       Moglix  E-Commerce  Singapore              Series D   \n",
       "48  2019-10-06     OkCredit     FinTech    Haryana              Series A   \n",
       "56  2019-02-05       Zenoti        Saas  Hyderabad              Series C   \n",
       "64  2019-11-04    CleverTap        SaaS     Mumbai              Series B   \n",
       "\n",
       "      amount  \n",
       "0   1650.000  \n",
       "34   495.000  \n",
       "48   127.875  \n",
       "56   412.500  \n",
       "64   214.500  "
      ],
      "text/html": [
       "<div>\n",
       "<style scoped>\n",
       "    .dataframe tbody tr th:only-of-type {\n",
       "        vertical-align: middle;\n",
       "    }\n",
       "\n",
       "    .dataframe tbody tr th {\n",
       "        vertical-align: top;\n",
       "    }\n",
       "\n",
       "    .dataframe thead th {\n",
       "        text-align: right;\n",
       "    }\n",
       "</style>\n",
       "<table border=\"1\" class=\"dataframe\">\n",
       "  <thead>\n",
       "    <tr style=\"text-align: right;\">\n",
       "      <th></th>\n",
       "      <th>date</th>\n",
       "      <th>Startup Name</th>\n",
       "      <th>vertical</th>\n",
       "      <th>city</th>\n",
       "      <th>round_number</th>\n",
       "      <th>amount</th>\n",
       "    </tr>\n",
       "  </thead>\n",
       "  <tbody>\n",
       "    <tr>\n",
       "      <th>0</th>\n",
       "      <td>2020-09-01</td>\n",
       "      <td>BYJU’S</td>\n",
       "      <td>E-Tech</td>\n",
       "      <td>Bengaluru</td>\n",
       "      <td>Private Equity Round</td>\n",
       "      <td>1650.000</td>\n",
       "    </tr>\n",
       "    <tr>\n",
       "      <th>34</th>\n",
       "      <td>2019-11-07</td>\n",
       "      <td>Moglix</td>\n",
       "      <td>E-Commerce</td>\n",
       "      <td>Singapore</td>\n",
       "      <td>Series D</td>\n",
       "      <td>495.000</td>\n",
       "    </tr>\n",
       "    <tr>\n",
       "      <th>48</th>\n",
       "      <td>2019-10-06</td>\n",
       "      <td>OkCredit</td>\n",
       "      <td>FinTech</td>\n",
       "      <td>Haryana</td>\n",
       "      <td>Series A</td>\n",
       "      <td>127.875</td>\n",
       "    </tr>\n",
       "    <tr>\n",
       "      <th>56</th>\n",
       "      <td>2019-02-05</td>\n",
       "      <td>Zenoti</td>\n",
       "      <td>Saas</td>\n",
       "      <td>Hyderabad</td>\n",
       "      <td>Series C</td>\n",
       "      <td>412.500</td>\n",
       "    </tr>\n",
       "    <tr>\n",
       "      <th>64</th>\n",
       "      <td>2019-11-04</td>\n",
       "      <td>CleverTap</td>\n",
       "      <td>SaaS</td>\n",
       "      <td>Mumbai</td>\n",
       "      <td>Series B</td>\n",
       "      <td>214.500</td>\n",
       "    </tr>\n",
       "  </tbody>\n",
       "</table>\n",
       "</div>"
      ]
     },
     "execution_count": 76,
     "metadata": {},
     "output_type": "execute_result"
    }
   ],
   "execution_count": 76
  },
  {
   "metadata": {
    "ExecuteTime": {
     "end_time": "2024-07-24T10:36:20.465016Z",
     "start_time": "2024-07-24T10:36:20.451915Z"
    }
   },
   "cell_type": "code",
   "source": "df[df['Investors Name'].str.contains('Tiger Global Management')].groupby('Startup Name')['amount'].sum().sort_values(ascending=False)",
   "id": "2588ab737f8f6d13",
   "outputs": [
    {
     "data": {
      "text/plain": [
       "Startup Name\n",
       "BYJU’S         1650.000\n",
       "Saavn           825.000\n",
       "Shopclues       825.000\n",
       "Delhivery       701.250\n",
       "Moglix          495.000\n",
       "Zenoti          412.500\n",
       "Grey Orange     247.500\n",
       "Zo Rooms        247.500\n",
       "CleverTap       214.500\n",
       "BlackBuck       206.250\n",
       "OkCredit        127.875\n",
       "Lybrate          84.150\n",
       "Cube26           63.525\n",
       "Vedantu          41.250\n",
       "Name: amount, dtype: float64"
      ]
     },
     "execution_count": 77,
     "metadata": {},
     "output_type": "execute_result"
    }
   ],
   "execution_count": 77
  },
  {
   "metadata": {
    "ExecuteTime": {
     "end_time": "2024-07-24T10:48:59.677935Z",
     "start_time": "2024-07-24T10:48:59.443100Z"
    }
   },
   "cell_type": "code",
   "source": "df[df['Investors Name'].str.contains('Tiger Global Management')].groupby('vertical')['amount'].sum().plot(kind='pie')",
   "id": "e3c48c7d81ca0ab2",
   "outputs": [
    {
     "data": {
      "text/plain": [
       "<Axes: ylabel='amount'>"
      ]
     },
     "execution_count": 83,
     "metadata": {},
     "output_type": "execute_result"
    },
    {
     "data": {
      "text/plain": [
       "<Figure size 640x480 with 1 Axes>"
      ],
      "image/png": "[encoded data removed]"
     },
     "metadata": {},
     "output_type": "display_data"
    }
   ],
   "execution_count": 83
  },
  {
   "metadata": {
    "ExecuteTime": {
     "end_time": "2024-07-24T10:58:19.843618Z",
     "start_time": "2024-07-24T10:58:19.813052Z"
    }
   },
   "cell_type": "code",
   "source": "df['year']=df['date'].astype('datetime64[ns]').dt.year",
   "id": "5c47d10574d1501a",
   "outputs": [],
   "execution_count": 93
  },
  {
   "metadata": {
    "ExecuteTime": {
     "end_time": "2024-07-24T11:02:23.609053Z",
     "start_time": "2024-07-24T11:02:23.572668Z"
    }
   },
   "cell_type": "code",
   "source": "df[df['Investors Name'].str.contains('Tiger Global Management')].groupby('year')['amount'].sum()",
   "id": "72a7e8c28c576baf",
   "outputs": [
    {
     "data": {
      "text/plain": [
       "year\n",
       "2015    2416.425\n",
       "2016     825.000\n",
       "2019    1249.875\n",
       "2020    1650.000\n",
       "Name: amount, dtype: float64"
      ]
     },
     "execution_count": 96,
     "metadata": {},
     "output_type": "execute_result"
    }
   ],
   "execution_count": 96
  },
  {
   "metadata": {
    "ExecuteTime": {
     "end_time": "2024-07-24T11:47:32.986381Z",
     "start_time": "2024-07-24T11:47:32.975451Z"
    }
   },
   "cell_type": "code",
   "source": "int(df['amount'].sum())",
   "id": "e447f83b5e30f67",
   "outputs": [
    {
     "data": {
      "text/plain": [
       "122799"
      ]
     },
     "execution_count": 98,
     "metadata": {},
     "output_type": "execute_result"
    }
   ],
   "execution_count": 98
  },
  {
   "metadata": {
    "ExecuteTime": {
     "end_time": "2024-07-24T12:02:11.696610Z",
     "start_time": "2024-07-24T12:02:11.677082Z"
    }
   },
   "cell_type": "code",
   "source": "",
   "id": "2a6c7859fd2eca7",
   "outputs": [
    {
     "data": {
      "text/plain": [
       "751"
      ]
     },
     "execution_count": 102,
     "metadata": {},
     "output_type": "execute_result"
    }
   ],
   "execution_count": 102
  },
  {
   "metadata": {},
   "cell_type": "code",
   "source": "",
   "id": "4c0ad38a0cae04b",
   "outputs": [],
   "execution_count": null
  }
 ],
 "metadata": {
  "kernelspec": {
   "display_name": "Python 3",
   "language": "python",
   "name": "python3"
  },
  "language_info": {
   "codemirror_mode": {
    "name": "ipython",
    "version": 2
   },
   "file_extension": ".py",
   "mimetype": "text/x-python",
   "name": "python",
   "nbconvert_exporter": "python",
   "pygments_lexer": "ipython2",
   "version": "2.7.6"
  }
 },
 "nbformat": 4,
 "nbformat_minor": 5
}
